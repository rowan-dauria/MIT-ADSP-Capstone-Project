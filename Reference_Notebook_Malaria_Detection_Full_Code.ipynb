{
  "nbformat": 4,
  "nbformat_minor": 0,
  "metadata": {
    "colab": {
      "provenance": []
    },
    "kernelspec": {
      "name": "python3",
      "display_name": "Python 3"
    },
    "language_info": {
      "name": "python"
    }
  },
  "cells": [
    {
      "cell_type": "markdown",
      "source": [
        "# **Malaria Detection**"
      ],
      "metadata": {
        "id": "xbL3dHCsb6UT"
      }
    },
    {
      "cell_type": "markdown",
      "metadata": {
        "id": "rCiPVBNbA0Wh"
      },
      "source": [
        "##<b>Problem Definition</b>\n",
        "**The context:** Why is this problem important to solve?<br>\n",
        "**The objectives:** What is the intended goal?<br>\n",
        "**The key questions:** What are the key questions that need to be answered?<br>\n",
        "**The problem formulation:** What is it that we are trying to solve using data science?\n",
        "\n",
        "## <b>Data Description </b>\n",
        "\n",
        "There are a total of 24,958 train and 2,600 test images (colored) that we have taken from microscopic images. These images are of the following categories:<br>\n",
        "\n",
        "\n",
        "**Parasitized:** The parasitized cells contain the Plasmodium parasite which causes malaria<br>\n",
        "**Uninfected:** The uninfected cells are free of the Plasmodium parasites<br>\n"
      ]
    },
    {
      "cell_type": "markdown",
      "metadata": {
        "id": "HDM89XHyCxrA"
      },
      "source": [
        "###<b> Mount the Drive"
      ]
    },
    {
      "cell_type": "code",
      "metadata": {
        "id": "JQi_degJC3dm"
      },
      "source": [],
      "execution_count": null,
      "outputs": []
    },
    {
      "cell_type": "markdown",
      "metadata": {
        "id": "UC8-yLUUCcWh"
      },
      "source": [
        "### <b>Loading libraries</b>"
      ]
    },
    {
      "cell_type": "code",
      "source": [],
      "metadata": {
        "id": "iixNDZWs1ZPL"
      },
      "execution_count": null,
      "outputs": []
    },
    {
      "cell_type": "markdown",
      "metadata": {
        "id": "nCqJk2XpCnJi"
      },
      "source": [
        "### <b>Let us load the data</b>"
      ]
    },
    {
      "cell_type": "markdown",
      "metadata": {
        "id": "_syvBdMlDTsr"
      },
      "source": [
        "**Note:** \n",
        "- You must download the dataset from the link provided on Olympus and upload the same to your Google Drive. Then unzip the folder."
      ]
    },
    {
      "cell_type": "code",
      "metadata": {
        "id": "ufMU62DICjLV"
      },
      "source": [],
      "execution_count": null,
      "outputs": []
    },
    {
      "cell_type": "markdown",
      "metadata": {
        "id": "IW3fDq7gF4Hw"
      },
      "source": [
        "The extracted folder has different folders for train and test data will contain the different sizes of images for parasitized and uninfected cells within the respective folder name. \n",
        "\n",
        "The size of all images must be the same and should be converted to 4D arrays so that they can be used as an input for the convolutional neural network. Also, we need to create the labels for both types of images to be able to train and test the model. \n",
        "\n",
        "Let's do the same for the training data first and then we will use the same code for the test data as well."
      ]
    },
    {
      "cell_type": "code",
      "metadata": {
        "id": "SjK02uF1DXdW"
      },
      "source": [],
      "execution_count": null,
      "outputs": []
    },
    {
      "cell_type": "markdown",
      "metadata": {
        "id": "V_rxFT9iH7pR"
      },
      "source": [
        "###<b> Check the shape of train and test images"
      ]
    },
    {
      "cell_type": "code",
      "source": [],
      "metadata": {
        "id": "LA8HJmQp1hU5"
      },
      "execution_count": null,
      "outputs": []
    },
    {
      "cell_type": "markdown",
      "metadata": {
        "id": "y3AiiutGIEoy"
      },
      "source": [
        "###<b> Check the shape of train and test labels"
      ]
    },
    {
      "cell_type": "code",
      "source": [],
      "metadata": {
        "id": "UJ_uvmT61rvx"
      },
      "execution_count": null,
      "outputs": []
    },
    {
      "cell_type": "markdown",
      "metadata": {
        "id": "A3gtgoubINVX"
      },
      "source": [
        "####<b> Observations and insights: _____\n"
      ]
    },
    {
      "cell_type": "markdown",
      "metadata": {
        "id": "ZFUMkif7IjlO"
      },
      "source": [
        "### <b>Check the minimum and maximum range of pixel values for train and test images"
      ]
    },
    {
      "cell_type": "code",
      "metadata": {
        "id": "_gJbhCbMIswX"
      },
      "source": [
        "\n"
      ],
      "execution_count": null,
      "outputs": []
    },
    {
      "cell_type": "markdown",
      "metadata": {
        "id": "_T8WWuSpI6Ih"
      },
      "source": [
        "####<b> Observations and insights: _____\n",
        "\n"
      ]
    },
    {
      "cell_type": "markdown",
      "metadata": {
        "id": "ywUFcLSCPIqz"
      },
      "source": [
        "###<b> Count the number of values in both uninfected and parasitized "
      ]
    },
    {
      "cell_type": "code",
      "metadata": {
        "id": "xcEb9liBPRlu"
      },
      "source": [
        "\n"
      ],
      "execution_count": null,
      "outputs": []
    },
    {
      "cell_type": "markdown",
      "metadata": {
        "id": "7U71xb2XJe0t"
      },
      "source": [
        "###<b>Normalize the images"
      ]
    },
    {
      "cell_type": "code",
      "metadata": {
        "id": "HqzvvNS9IvsP"
      },
      "source": [],
      "execution_count": null,
      "outputs": []
    },
    {
      "cell_type": "markdown",
      "metadata": {
        "id": "lAT1eVTrKiDy"
      },
      "source": [
        "####<b> Observations and insights: _____"
      ]
    },
    {
      "cell_type": "markdown",
      "metadata": {
        "id": "NG4meNZBKZ5r"
      },
      "source": [
        "###<b> Plot to check if the data is balanced"
      ]
    },
    {
      "cell_type": "code",
      "metadata": {
        "id": "8N4qohCFIvvI"
      },
      "source": [
        "\n"
      ],
      "execution_count": null,
      "outputs": []
    },
    {
      "cell_type": "markdown",
      "metadata": {
        "id": "rGfRJaffLI-C"
      },
      "source": [
        "####<b> Observations and insights: _____"
      ]
    },
    {
      "cell_type": "markdown",
      "metadata": {
        "id": "16-Er2edMzsD"
      },
      "source": [
        "### <b>Data Exploration</b>\n",
        "Let's visualize the images from the train data"
      ]
    },
    {
      "cell_type": "code",
      "source": [],
      "metadata": {
        "id": "kjhRVQ3-2Pa5"
      },
      "execution_count": null,
      "outputs": []
    },
    {
      "cell_type": "markdown",
      "metadata": {
        "id": "OnyS_9IcCZLp"
      },
      "source": [
        "####<b> Observations and insights: _____"
      ]
    },
    {
      "cell_type": "markdown",
      "metadata": {
        "id": "ay4oo5HrTDha"
      },
      "source": [
        "###<b> Visualize the images with subplot(6, 6) and figsize = (12, 12)"
      ]
    },
    {
      "cell_type": "code",
      "metadata": {
        "id": "tKmncZ-fTAdD"
      },
      "source": [
        "\n",
        "\n"
      ],
      "execution_count": null,
      "outputs": []
    },
    {
      "cell_type": "markdown",
      "metadata": {
        "id": "NTG8UaNNNNso"
      },
      "source": [
        "####<b>Observations and insights:"
      ]
    },
    {
      "cell_type": "markdown",
      "metadata": {
        "id": "ifjZ2G0YN20r"
      },
      "source": [
        "###<b> Plotting the mean images for parasitized and uninfected"
      ]
    },
    {
      "cell_type": "code",
      "metadata": {
        "id": "yN9X0620Iv1a"
      },
      "source": [],
      "execution_count": null,
      "outputs": []
    },
    {
      "cell_type": "markdown",
      "metadata": {
        "id": "mQ4xRQfUOMtm"
      },
      "source": [
        "<b> Mean image for parasitized"
      ]
    },
    {
      "cell_type": "code",
      "source": [],
      "metadata": {
        "id": "SlgCf1-x2gli"
      },
      "execution_count": null,
      "outputs": []
    },
    {
      "cell_type": "markdown",
      "metadata": {
        "id": "BkRt1rYIKE24"
      },
      "source": [
        "<b> Mean image for uninfected"
      ]
    },
    {
      "cell_type": "code",
      "metadata": {
        "id": "Ji4w0okiIv6o"
      },
      "source": [
        "\n",
        "\n",
        "\n"
      ],
      "execution_count": null,
      "outputs": []
    },
    {
      "cell_type": "markdown",
      "metadata": {
        "id": "Lp9NP8yqPA69"
      },
      "source": [
        "####<b> Observations and insights: _____"
      ]
    },
    {
      "cell_type": "markdown",
      "metadata": {
        "id": "XzBagGEzHMHB"
      },
      "source": [
        "### <b>Converting RGB to HSV of Images using OpenCV"
      ]
    },
    {
      "cell_type": "markdown",
      "metadata": {
        "id": "eJFCdE77H1Sg"
      },
      "source": [
        "###<b> Converting the train data"
      ]
    },
    {
      "cell_type": "code",
      "metadata": {
        "id": "32iwgGz7Iv-E"
      },
      "source": [],
      "execution_count": null,
      "outputs": []
    },
    {
      "cell_type": "markdown",
      "metadata": {
        "id": "P9a7cFllH794"
      },
      "source": [
        "###<b> Converting the test data"
      ]
    },
    {
      "cell_type": "code",
      "metadata": {
        "id": "N-kUOULrGpBA"
      },
      "source": [],
      "execution_count": null,
      "outputs": []
    },
    {
      "cell_type": "markdown",
      "metadata": {
        "id": "Xq4_3hv6J3ad"
      },
      "source": [
        "####<b>Observations and insights: _____"
      ]
    },
    {
      "cell_type": "markdown",
      "metadata": {
        "id": "L7x9uDxuJur7"
      },
      "source": [
        "###<b> Processing Images using Gaussian Blurring"
      ]
    },
    {
      "cell_type": "markdown",
      "metadata": {
        "id": "HgkB_-J2KhBQ"
      },
      "source": [
        "###<b> Gaussian Blurring on train data"
      ]
    },
    {
      "cell_type": "code",
      "metadata": {
        "id": "U7GtZThUI6ug"
      },
      "source": [],
      "execution_count": null,
      "outputs": []
    },
    {
      "cell_type": "markdown",
      "metadata": {
        "id": "lTsJkRtCKlYZ"
      },
      "source": [
        "###<b> Gaussian Blurring on test data"
      ]
    },
    {
      "cell_type": "code",
      "metadata": {
        "id": "XbmMGySOKblh"
      },
      "source": [],
      "execution_count": null,
      "outputs": []
    },
    {
      "cell_type": "markdown",
      "metadata": {
        "id": "kkpR8tQFKplr"
      },
      "source": [
        "####**Observations and insights: _____**\n",
        "\n",
        "**Think About It:** Would blurring help us for this problem statement in any way? What else can we try?"
      ]
    },
    {
      "cell_type": "markdown",
      "source": [
        "## **Model Building**"
      ],
      "metadata": {
        "id": "G4Vso75QRcej"
      }
    },
    {
      "cell_type": "markdown",
      "metadata": {
        "id": "G4_ZzqDp8T5w"
      },
      "source": [
        "### **Base Model**\n",
        "\n",
        "**Note:** The Base Model has been fully built and evaluated with all outputs shown to give an idea about the process of the creation and evaluation of the performance of a CNN architecture. A similar process can be followed in iterating to build better-performing CNN architectures."
      ]
    },
    {
      "cell_type": "markdown",
      "metadata": {
        "id": "qTMSr0Xw6x3b"
      },
      "source": [
        "###<b> Importing the required libraries for building and training our Model"
      ]
    },
    {
      "cell_type": "code",
      "metadata": {
        "id": "X8eWxdyDp_ZC"
      },
      "source": [],
      "execution_count": null,
      "outputs": []
    },
    {
      "cell_type": "markdown",
      "metadata": {
        "id": "vtayck2-Pm3G"
      },
      "source": [
        "####<B>One Hot Encoding the train and test labels"
      ]
    },
    {
      "cell_type": "code",
      "execution_count": null,
      "metadata": {
        "id": "xDWl6dVtOMom"
      },
      "outputs": [],
      "source": []
    },
    {
      "cell_type": "markdown",
      "metadata": {
        "id": "fmwb4h0h64Km"
      },
      "source": [
        "###<b> Building the model"
      ]
    },
    {
      "cell_type": "code",
      "source": [
        "#"
      ],
      "metadata": {
        "id": "3LV1Ad_b4_LK"
      },
      "execution_count": null,
      "outputs": []
    },
    {
      "cell_type": "markdown",
      "metadata": {
        "id": "4Sh0OGP268Qm"
      },
      "source": [
        "###<b> Compiling the model"
      ]
    },
    {
      "cell_type": "code",
      "metadata": {
        "id": "fGGRMByKOMyG"
      },
      "source": [],
      "execution_count": null,
      "outputs": []
    },
    {
      "cell_type": "markdown",
      "metadata": {
        "id": "7Dt8lFvz6_K6"
      },
      "source": [
        "<b> Using Callbacks "
      ]
    },
    {
      "cell_type": "code",
      "metadata": {
        "id": "FPwUYX3KOM34"
      },
      "source": [],
      "execution_count": null,
      "outputs": []
    },
    {
      "cell_type": "markdown",
      "metadata": {
        "id": "91af114l7DCt"
      },
      "source": [
        "<b> Fit and train our Model"
      ]
    },
    {
      "cell_type": "code",
      "source": [],
      "metadata": {
        "id": "XysPQsWn5EGq"
      },
      "execution_count": null,
      "outputs": []
    },
    {
      "cell_type": "markdown",
      "metadata": {
        "id": "Vn7bDXku7Ib8"
      },
      "source": [
        "###<b> Evaluating the model on test data"
      ]
    },
    {
      "cell_type": "code",
      "source": [],
      "metadata": {
        "id": "mHbgBrZe5Hqh"
      },
      "execution_count": null,
      "outputs": []
    },
    {
      "cell_type": "markdown",
      "metadata": {
        "id": "sSoNNG_T7PkT"
      },
      "source": [
        "<b> Plotting the confusion matrix"
      ]
    },
    {
      "cell_type": "code",
      "source": [],
      "metadata": {
        "id": "mwY1yx095NN5"
      },
      "execution_count": null,
      "outputs": []
    },
    {
      "cell_type": "markdown",
      "metadata": {
        "id": "eWq4jyPL7f5a"
      },
      "source": [
        "<b>Plotting the train and validation curves"
      ]
    },
    {
      "cell_type": "code",
      "metadata": {
        "id": "U3h5gAwyW05u"
      },
      "source": [],
      "execution_count": null,
      "outputs": []
    },
    {
      "cell_type": "markdown",
      "metadata": {
        "id": "dCDgxiFnXSek"
      },
      "source": [
        "So now let's try to build another model with few more add on layers and try to check if we can try to improve the model. Therefore try to build a model by adding few layers if required and altering the activation functions."
      ]
    },
    {
      "cell_type": "markdown",
      "metadata": {
        "id": "2tJeklwR77rs"
      },
      "source": [
        "###<b> Model 1\n",
        "####<b> Trying to improve the performance of our model by adding new layers\n"
      ]
    },
    {
      "cell_type": "code",
      "source": [],
      "metadata": {
        "id": "J-NnG6Rp9_w7"
      },
      "execution_count": null,
      "outputs": []
    },
    {
      "cell_type": "markdown",
      "metadata": {
        "id": "DT99NdnzZW3n"
      },
      "source": [
        "###<b> Building the Model"
      ]
    },
    {
      "cell_type": "code",
      "metadata": {
        "id": "4TaSet9DONGV"
      },
      "source": [],
      "execution_count": null,
      "outputs": []
    },
    {
      "cell_type": "markdown",
      "metadata": {
        "id": "S6cTCOAVZZpI"
      },
      "source": [
        "###<b> Compiling the model"
      ]
    },
    {
      "cell_type": "code",
      "metadata": {
        "id": "JWcQhKidONIr"
      },
      "source": [],
      "execution_count": null,
      "outputs": []
    },
    {
      "cell_type": "markdown",
      "metadata": {
        "id": "2PSskadUZhUt"
      },
      "source": [
        "<b> Using Callbacks"
      ]
    },
    {
      "cell_type": "code",
      "metadata": {
        "id": "Z4_T2_sKONMA"
      },
      "source": [],
      "execution_count": null,
      "outputs": []
    },
    {
      "cell_type": "markdown",
      "metadata": {
        "id": "VYLgQK9DZkoc"
      },
      "source": [
        "<b>Fit and Train the model"
      ]
    },
    {
      "cell_type": "code",
      "metadata": {
        "id": "O7S7LmVTZjrd"
      },
      "source": [],
      "execution_count": null,
      "outputs": []
    },
    {
      "cell_type": "markdown",
      "metadata": {
        "id": "bHABkGRzZwyt"
      },
      "source": [
        "###<b> Evaluating the model"
      ]
    },
    {
      "cell_type": "code",
      "metadata": {
        "id": "yie1Z-R6Zjt_"
      },
      "source": [],
      "execution_count": null,
      "outputs": []
    },
    {
      "cell_type": "markdown",
      "metadata": {
        "id": "cCJEZ6cqZywk"
      },
      "source": [
        "<b> Plotting the confusion matrix"
      ]
    },
    {
      "cell_type": "code",
      "metadata": {
        "id": "YmuJFfUjZjws"
      },
      "source": [],
      "execution_count": null,
      "outputs": []
    },
    {
      "cell_type": "markdown",
      "metadata": {
        "id": "roDugWeKaVDW"
      },
      "source": [
        "<b> Plotting the train and the validation curves"
      ]
    },
    {
      "cell_type": "code",
      "metadata": {
        "id": "JakeVNnbZjzh"
      },
      "source": [],
      "execution_count": null,
      "outputs": []
    },
    {
      "cell_type": "markdown",
      "metadata": {
        "id": "Zsx7jVjaiO9V"
      },
      "source": [
        "###<b>Think about it:</b><br>\n",
        "Now let's build a model with LeakyRelu as the activation function  \n",
        "\n",
        "*  Can the model performance be improved if we change our activation function to LeakyRelu?\n",
        "*  Can BatchNormalization improve our model?\n",
        "\n",
        "Let us try to build a model using BatchNormalization and using LeakyRelu as our activation function."
      ]
    },
    {
      "cell_type": "markdown",
      "metadata": {
        "id": "JU4qr7amiXds"
      },
      "source": [
        "###<b> Model 2 with Batch Normalization"
      ]
    },
    {
      "cell_type": "code",
      "metadata": {
        "id": "fOXd_ciyZj2n"
      },
      "source": [],
      "execution_count": null,
      "outputs": []
    },
    {
      "cell_type": "markdown",
      "metadata": {
        "id": "1kDMUu-U8vV3"
      },
      "source": [
        "###<b> Building the Model"
      ]
    },
    {
      "cell_type": "code",
      "metadata": {
        "id": "uJBcwhtbiu0l"
      },
      "source": [],
      "execution_count": null,
      "outputs": []
    },
    {
      "cell_type": "markdown",
      "metadata": {
        "id": "t9WQ7-cOLIQy"
      },
      "source": [
        "###<b>Compiling the model"
      ]
    },
    {
      "cell_type": "code",
      "metadata": {
        "id": "6SiRoyZ7LHSL"
      },
      "source": [],
      "execution_count": null,
      "outputs": []
    },
    {
      "cell_type": "markdown",
      "metadata": {
        "id": "XOVzX0WTDUEy"
      },
      "source": [
        "<b> Using callbacks"
      ]
    },
    {
      "cell_type": "code",
      "metadata": {
        "id": "jC0FcITongxx"
      },
      "source": [],
      "execution_count": null,
      "outputs": []
    },
    {
      "cell_type": "markdown",
      "metadata": {
        "id": "Rxj3AcS0Dqm8"
      },
      "source": [
        "<b>Fit and train the model"
      ]
    },
    {
      "cell_type": "code",
      "metadata": {
        "id": "fMy-4IGajL31"
      },
      "source": [],
      "execution_count": null,
      "outputs": []
    },
    {
      "cell_type": "markdown",
      "metadata": {
        "id": "j9DkuwVYDtc3"
      },
      "source": [
        "<b>Plotting the train and validation accuracy"
      ]
    },
    {
      "cell_type": "code",
      "metadata": {
        "id": "ILu-oHB_jxGY"
      },
      "source": [
        "\n"
      ],
      "execution_count": null,
      "outputs": []
    },
    {
      "cell_type": "markdown",
      "metadata": {
        "id": "mSREnGkgDz6N"
      },
      "source": [
        "###<b>Evaluating the model"
      ]
    },
    {
      "cell_type": "code",
      "metadata": {
        "id": "pZGH8gE089Gx"
      },
      "source": [],
      "execution_count": null,
      "outputs": []
    },
    {
      "cell_type": "markdown",
      "metadata": {
        "id": "RiIQnwKaJ27O"
      },
      "source": [
        "####<b>Observations and insights: ____"
      ]
    },
    {
      "cell_type": "markdown",
      "metadata": {
        "id": "YDL1BQZ7_JxS"
      },
      "source": [
        "<b> Generate the classification report and confusion matrix "
      ]
    },
    {
      "cell_type": "code",
      "metadata": {
        "id": "pB-CYdwC9V8P"
      },
      "source": [],
      "execution_count": null,
      "outputs": []
    },
    {
      "cell_type": "markdown",
      "metadata": {
        "id": "aUwBBVzuijlU"
      },
      "source": [
        "###**Think About It :**<br>\n",
        "\n",
        "* Can we improve the model with Image Data Augmentation?\n",
        "* References to image data augmentation can be seen below:\n",
        "  *   [Image Augmentation for Computer Vision](https://www.mygreatlearning.com/blog/understanding-data-augmentation/)\n",
        "  *   [How to Configure Image Data Augmentation in Keras?](https://machinelearningmastery.com/how-to-configure-image-data-augmentation-when-training-deep-learning-neural-networks/)\n",
        "\n",
        "\n",
        "\n"
      ]
    },
    {
      "cell_type": "markdown",
      "metadata": {
        "id": "DYVJZ0Psi0D0"
      },
      "source": [
        "###<b>Model 3 with Data Augmentation"
      ]
    },
    {
      "cell_type": "code",
      "metadata": {
        "id": "1ddfrhcLihpz"
      },
      "source": [],
      "execution_count": null,
      "outputs": []
    },
    {
      "cell_type": "markdown",
      "metadata": {
        "id": "NqOnCq3FZ6JG"
      },
      "source": [
        "###<b> Use image data generator"
      ]
    },
    {
      "cell_type": "code",
      "metadata": {
        "id": "MnvWygv4aAZc"
      },
      "source": [],
      "execution_count": null,
      "outputs": []
    },
    {
      "cell_type": "markdown",
      "metadata": {
        "id": "_2cJN07Bbofx"
      },
      "source": [
        "###**Think About It :**<br>\n",
        "\n",
        "*  Check if the performance of the model can be improved by changing different parameters in the ImageDataGenerator.\n",
        "\n"
      ]
    },
    {
      "cell_type": "markdown",
      "metadata": {
        "id": "341Ilg5McowX"
      },
      "source": [
        "####<B>Visualizing Augmented images"
      ]
    },
    {
      "cell_type": "code",
      "metadata": {
        "id": "Ws3BE91RbFBy"
      },
      "source": [],
      "execution_count": null,
      "outputs": []
    },
    {
      "cell_type": "markdown",
      "metadata": {
        "id": "ZfCMCaAZdK3o"
      },
      "source": [
        "####<b>Observations and insights: ____"
      ]
    },
    {
      "cell_type": "markdown",
      "metadata": {
        "id": "BrpS4Azamjs4"
      },
      "source": [
        "###<b>Building the Model"
      ]
    },
    {
      "cell_type": "code",
      "metadata": {
        "id": "YVELJI8uihsz"
      },
      "source": [],
      "execution_count": null,
      "outputs": []
    },
    {
      "cell_type": "markdown",
      "metadata": {
        "id": "j-HrtTMJnEPl"
      },
      "source": [
        "<b>Using Callbacks"
      ]
    },
    {
      "cell_type": "code",
      "metadata": {
        "id": "xMWPxLvdihvf"
      },
      "source": [],
      "execution_count": null,
      "outputs": []
    },
    {
      "cell_type": "markdown",
      "metadata": {
        "id": "SEeOIRrCnMBh"
      },
      "source": [
        "<b> Fit and Train the model"
      ]
    },
    {
      "cell_type": "code",
      "metadata": {
        "id": "u_2dSGYMihyk"
      },
      "source": [],
      "execution_count": null,
      "outputs": []
    },
    {
      "cell_type": "markdown",
      "metadata": {
        "id": "8EFWVEUKoM1U"
      },
      "source": [
        "###<B>Evaluating the model"
      ]
    },
    {
      "cell_type": "markdown",
      "metadata": {
        "id": "8twGIoxWnrCb"
      },
      "source": [
        "<b>Plot the train and validation accuracy"
      ]
    },
    {
      "cell_type": "code",
      "metadata": {
        "id": "HjB4IecBih2K"
      },
      "source": [],
      "execution_count": null,
      "outputs": []
    },
    {
      "cell_type": "markdown",
      "metadata": {
        "id": "x_VDQxXwoe6u"
      },
      "source": [
        "<B>Plotting the classification report and confusion matrix"
      ]
    },
    {
      "cell_type": "code",
      "metadata": {
        "id": "RxdOpuzJoj8l"
      },
      "source": [],
      "execution_count": null,
      "outputs": []
    },
    {
      "cell_type": "markdown",
      "metadata": {
        "id": "obzJSEF5ypj-"
      },
      "source": [
        "<b> Now, let us try to use a pretrained model like VGG16 and check how it performs on our data."
      ]
    },
    {
      "cell_type": "markdown",
      "metadata": {
        "id": "ra-GUCjbLHGg"
      },
      "source": [
        "### **Pre-trained model (VGG16)**\n",
        "- Import VGG16 network upto any layer you choose\n",
        "- Add Fully Connected Layers on top of it"
      ]
    },
    {
      "cell_type": "code",
      "metadata": {
        "id": "5dH2_XWNLyac"
      },
      "source": [],
      "execution_count": null,
      "outputs": []
    },
    {
      "cell_type": "markdown",
      "metadata": {
        "id": "Mhoug92KFWPa"
      },
      "source": [
        "###<b>Compiling the model"
      ]
    },
    {
      "cell_type": "code",
      "metadata": {
        "id": "CdJ8C0L5Lkyt"
      },
      "source": [],
      "execution_count": null,
      "outputs": []
    },
    {
      "cell_type": "markdown",
      "metadata": {
        "id": "rBPzjtxcFLQt"
      },
      "source": [
        "<b> using callbacks"
      ]
    },
    {
      "cell_type": "code",
      "metadata": {
        "id": "qS3skmQBR4if"
      },
      "source": [],
      "execution_count": null,
      "outputs": []
    },
    {
      "cell_type": "markdown",
      "metadata": {
        "id": "4_ZeobGmFIOF"
      },
      "source": [
        "<b>Fit and Train the model"
      ]
    },
    {
      "cell_type": "code",
      "metadata": {
        "id": "V6sSx39uL1mS"
      },
      "source": [],
      "execution_count": null,
      "outputs": []
    },
    {
      "cell_type": "markdown",
      "metadata": {
        "id": "O0WI9dvDFBaR"
      },
      "source": [
        "<b>Plot the train and validation accuracy"
      ]
    },
    {
      "cell_type": "code",
      "metadata": {
        "id": "mKmS2XyiMBqb"
      },
      "source": [],
      "execution_count": null,
      "outputs": []
    },
    {
      "cell_type": "markdown",
      "metadata": {
        "id": "mb3jUduI0BNs"
      },
      "source": [
        "###**Observations and insights: _____**\n",
        "\n",
        "*   What can be observed from the validation and train curves?"
      ]
    },
    {
      "cell_type": "markdown",
      "metadata": {
        "id": "Ykl7xLODEoix"
      },
      "source": [
        "###<b> Evaluating the model"
      ]
    },
    {
      "cell_type": "code",
      "metadata": {
        "id": "RxcgkSoivwWf"
      },
      "source": [
        "\n"
      ],
      "execution_count": null,
      "outputs": []
    },
    {
      "cell_type": "markdown",
      "metadata": {
        "id": "r_lr-dUHE77F"
      },
      "source": [
        "<b>Plotting the classification report and confusion matrix"
      ]
    },
    {
      "cell_type": "code",
      "metadata": {
        "id": "jns2wf2HMBto"
      },
      "source": [],
      "execution_count": null,
      "outputs": []
    },
    {
      "cell_type": "markdown",
      "metadata": {
        "id": "MEZPA_mN0tUo"
      },
      "source": [
        "###<b>Think about it:</b>\n",
        "*  What observations and insights can be drawn from the confusion matrix and classification report?\n",
        "*  Choose the model with the best accuracy scores from all the above models and save it as a final model.\n"
      ]
    },
    {
      "cell_type": "markdown",
      "metadata": {
        "id": "Smzi8y5AEYIi"
      },
      "source": [
        "####<b> Observations and Conclusions drawn from the final model: _____\n",
        "\n"
      ]
    },
    {
      "cell_type": "markdown",
      "metadata": {
        "id": "yo6IpgOZ1n-g"
      },
      "source": [
        "**Improvements that can be done:**<br>\n",
        "\n",
        "\n",
        "*  Can the model performance be improved using other pre-trained models or different CNN architecture?\n",
        "*  You can try to build a model using these HSV images and compare them with your other models."
      ]
    },
    {
      "cell_type": "markdown",
      "metadata": {
        "id": "mJB6yf2EczFk"
      },
      "source": [
        "#### **Insights**\n",
        "\n",
        "####**Refined insights**:\n",
        "- What are the most meaningful insights from the data relevant to the problem?\n",
        "\n",
        "####**Comparison of various techniques and their relative performance**:\n",
        "- How do different techniques perform? Which one is performing relatively better? Is there scope to improve the performance further?\n",
        "\n",
        "####**Proposal for the final solution design**:\n",
        "- What model do you propose to be adopted? Why is this the best solution to adopt?"
      ]
    }
  ]
}